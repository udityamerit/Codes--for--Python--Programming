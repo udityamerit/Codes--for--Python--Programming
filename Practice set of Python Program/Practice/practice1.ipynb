{
 "cells": [
  {
   "cell_type": "code",
   "execution_count": 4,
   "metadata": {},
   "outputs": [
    {
     "name": "stdout",
     "output_type": "stream",
     "text": [
      "0\n",
      "a\n",
      "1\n",
      "b\n",
      "2\n",
      "c\n",
      "3\n",
      "d\n",
      "4\n",
      "e\n",
      "5\n",
      "f\n",
      "6\n",
      "g\n",
      "7\n",
      "8\n",
      "9\n",
      "hi\n",
      "hi\n",
      "hi\n",
      "hi\n",
      "hi\n",
      "hi\n"
     ]
    }
   ],
   "source": [
    "import threading\n",
    "import time\n",
    "\n",
    "def print_line():\n",
    "        for i in range(10):\n",
    "                print(i)\n",
    "                time.sleep(1)\n",
    "        \n",
    "def print_line2():\n",
    "        a = ['a','b','c','d','e','f','g']\n",
    "        for i in a:\n",
    "                print(i)\n",
    "                time.sleep(1)\n",
    "\n",
    "th = threading.Thread(target=print_line)\n",
    "th1 = threading.Thread(target=print_line2)\n",
    "\n",
    "# start\n",
    "th.start()\n",
    "th1.start()\n",
    "\n",
    "# until all threds executed \n",
    "th.join()\n",
    "th1.join()\n",
    "\n",
    "print(\"hi\")\n",
    "print(\"hi\")\n",
    "print(\"hi\")\n",
    "print(\"hi\")\n",
    "print(\"hi\")\n",
    "print(\"hi\")\n",
    "\n"
   ]
  },
  {
   "cell_type": "code",
   "execution_count": 5,
   "metadata": {},
   "outputs": [
    {
     "ename": "ModuleNotFoundError",
     "evalue": "No module named 'mysql'",
     "output_type": "error",
     "traceback": [
      "\u001b[1;31m---------------------------------------------------------------------------\u001b[0m",
      "\u001b[1;31mModuleNotFoundError\u001b[0m                       Traceback (most recent call last)",
      "Cell \u001b[1;32mIn[5], line 1\u001b[0m\n\u001b[1;32m----> 1\u001b[0m \u001b[38;5;28;01mimport\u001b[39;00m \u001b[38;5;21;01mmysql\u001b[39;00m\n\u001b[0;32m      3\u001b[0m dbms \u001b[38;5;241m=\u001b[39m mysql\u001b[38;5;241m.\u001b[39mconnector\u001b[38;5;241m.\u001b[39mconnect(\n\u001b[0;32m      4\u001b[0m         host \u001b[38;5;241m=\u001b[39m \u001b[38;5;124m\"\u001b[39m\u001b[38;5;124mloclhost\u001b[39m\u001b[38;5;124m\"\u001b[39m,\n\u001b[0;32m      5\u001b[0m         username \u001b[38;5;241m=\u001b[39m \u001b[38;5;124m\"\u001b[39m\u001b[38;5;124mname\u001b[39m\u001b[38;5;124m\"\u001b[39m,\n\u001b[0;32m      6\u001b[0m         password \u001b[38;5;241m=\u001b[39m \u001b[38;5;124m\"\u001b[39m\u001b[38;5;124mpassword\u001b[39m\u001b[38;5;124m\"\u001b[39m,\n\u001b[0;32m      7\u001b[0m         port \u001b[38;5;241m=\u001b[39m \u001b[38;5;241m3066\u001b[39m\n\u001b[0;32m      8\u001b[0m )\n\u001b[0;32m     10\u001b[0m cur \u001b[38;5;241m=\u001b[39m dbms\u001b[38;5;241m.\u001b[39mcursor()\n",
      "\u001b[1;31mModuleNotFoundError\u001b[0m: No module named 'mysql'"
     ]
    }
   ],
   "source": [
    "import mysql.connector as mc\n",
    "\n",
    "dbms = mc.connect(\n",
    "        host = \"loclhost\",\n",
    "        username = \"name\",\n",
    "        password = \"password\",\n",
    "        port = 3066\n",
    ")\n",
    "\n",
    "cur = dbms.cursor()\n",
    "\n",
    "code = \"Create Table table1(name varchar(255),reg int(20))\"\n",
    "cur.execute(code)\n",
    "\n",
    "code2 = \"insert into table1 values(uditya,15)\"\n",
    "cur.execute(code2)\n",
    "\n",
    "code3 = cur.fetchall() \n",
    "for i in code3:\n",
    "        print(i)"
   ]
  },
  {
   "cell_type": "code",
   "execution_count": 8,
   "metadata": {},
   "outputs": [
    {
     "name": "stdout",
     "output_type": "stream",
     "text": [
      "\n",
      "*\n",
      "**\n",
      "***\n",
      "****\n",
      "****\n",
      "***\n",
      "**\n",
      "*\n"
     ]
    }
   ],
   "source": [
    "for i in range(5):\n",
    "        print(i*\"*\")\n",
    "for i in range(4,0,-1):\n",
    "        print(i*\"*\")\n",
    "        "
   ]
  },
  {
   "cell_type": "code",
   "execution_count": 11,
   "metadata": {},
   "outputs": [
    {
     "name": "stdout",
     "output_type": "stream",
     "text": [
      "askjdjfjasjf902384598357jsjdfjjajldsajljASDFAFDSAF2894582\n",
      "Not a Valid Password \n"
     ]
    }
   ],
   "source": [
    "# Python program to check validation of password\n",
    "# Module of regular expression is used with search()\n",
    "import re\n",
    "password = input()\n",
    "print(password)\n",
    "flag = 0\n",
    "while True:\n",
    "\tif (len(password)<=8):\n",
    "\t\tflag = -1\n",
    "\t\tbreak\n",
    "\telif not re.search(\"[a-z]\", password):\n",
    "\t\tflag = -1\n",
    "\t\tbreak\n",
    "\telif not re.search(\"[A-Z]\", password):\n",
    "\t\tflag = -1\n",
    "\t\tbreak\n",
    "\telif not re.search(\"[0-9]\", password):\n",
    "\t\tflag = -1\n",
    "\t\tbreak\n",
    "\telif not re.search(\"[_@$]\" , password):\n",
    "\t\tflag = -1\n",
    "\t\tbreak\n",
    "\telif re.search(\"\\s\" , password):\n",
    "\t\tflag = -1\n",
    "\t\tbreak\n",
    "\telse:\n",
    "\t\tflag = 0\n",
    "\t\tprint(\"Valid Password\")\n",
    "\t\tbreak\n",
    "\n",
    "if flag == -1:\n",
    "\tprint(\"Not a Valid Password \")\n"
   ]
  },
  {
   "cell_type": "code",
   "execution_count": 20,
   "metadata": {},
   "outputs": [
    {
     "name": "stdout",
     "output_type": "stream",
     "text": [
      "number is: 0 \n",
      "double of number is: 0\n",
      "square of number is: 0\n",
      "number is: 1 \n",
      "double of number is: 2\n",
      "square of number is: 1\n",
      "number is: 2 \n",
      "double of number is: 4\n",
      "square of number is: 4\n",
      "number is: 3 \n",
      "double of number is: 6\n",
      "square of number is: 9\n",
      "number is: 4 \n",
      "double of number is: 8\n",
      "square of number is: 16\n",
      "hello\n"
     ]
    }
   ],
   "source": [
    "import threading\n",
    "import time\n",
    "\n",
    "def num():\n",
    "        for i in range(5):\n",
    "                print(f\"number is: {i} \")\n",
    "                time.sleep(1)\n",
    "\n",
    "def dum():\n",
    "        for i in range(5):\n",
    "                print(f\"double of number is: {i*2}\")\n",
    "                time.sleep(1)\n",
    "\n",
    "def sqr():\n",
    "        for i in range(5):\n",
    "                print(f\"square of number is: {i*i}\")\n",
    "                time.sleep(1)\n",
    "\n",
    "th1 = threading.Thread(target=num)\n",
    "th2 = threading.Thread(target=dum)\n",
    "th3 = threading.Thread(target=sqr)\n",
    "\n",
    "th1.start()\n",
    "th2.start()\n",
    "th3.start()\n",
    "\n",
    "th1.join()\n",
    "th2.join()\n",
    "th3.join()\n",
    "\n",
    "print(\"hello\")"
   ]
  },
  {
   "cell_type": "code",
   "execution_count": 46,
   "metadata": {},
   "outputs": [
    {
     "name": "stdout",
     "output_type": "stream",
     "text": [
      "Name is: nokia\n",
      "Brand is: 23sxt\n",
      "Power is: 100\n"
     ]
    }
   ],
   "source": [
    "class phone:\n",
    "    def __init__(self, name, brand):  # Corrected the constructor method\n",
    "        self.name = name\n",
    "        self.brand = brand  # Corrected the typo here\n",
    "\n",
    "    def display(self):\n",
    "        print(f\"Name is: {self.name}\\nBrand is: {self.brand}\\n\")\n",
    "\n",
    "class sphone(phone):\n",
    "    def __init__(self, name, brand, power):\n",
    "        super().__init__(name, brand)  # Corrected the initialization\n",
    "        self.power = power\n",
    "\n",
    "    def display(self):\n",
    "        print(f\"Name is: {self.name}\\nBrand is: {self.brand}\\nPower is: {self.power}\")\n",
    "\n",
    "p = sphone(\"nokia\", \"23sxt\", 100)\n",
    "p.display()\n"
   ]
  },
  {
   "cell_type": "code",
   "execution_count": 44,
   "metadata": {},
   "outputs": [
    {
     "name": "stdout",
     "output_type": "stream",
     "text": [
      "Phone details is:   Name is: vivo \n",
      "        modle name is: 34rt43 \n",
      "          Price is: 32000 rs.\n",
      "--------------------------------------\n",
      "SmartPhone details is:   Name is: onepluse\n",
      " modle name is: 35tu34rt43 \n",
      " Price is: 52000 rs. \n",
      " Life is: 45 days\n",
      " Capacity is: 100 percent\n"
     ]
    }
   ],
   "source": [
    "\n",
    "class Phone:\n",
    "    def __init__(self,name,modle,price):\n",
    "        self.name = name\n",
    "        self.modle = modle\n",
    "        self.price = price\n",
    "\n",
    "    def full_detail(self):\n",
    "            return f\" Name is: {self.name} \\n\\\n",
    "        modle name is: {self.modle} \\n \\\n",
    "         Price is: {self.price} rs.\"\n",
    "        \n",
    "class Smartphone(Phone):\n",
    "    def __init__(self, name, modle, price,life,capacity):\n",
    "        super().__init__(name, modle, price)\n",
    "        self.life = life\n",
    "        self.capacity = capacity\n",
    "\n",
    "    def full_details(self):\n",
    "          return f\" Name is: {self.name}\\n modle name is: {self.modle} \\n Price is: {self.price} rs. \\n Life is: {self.life} days\\n Capacity is: {self.capacity} percent\"\n",
    "\n",
    "p = Phone(\"vivo\",\"34rt43\",32000)\n",
    "print(\"Phone details is: \", p.full_detail())\n",
    "print(\"--------------------------------------\")\n",
    "p2 = Smartphone(\"onepluse\",\"35tu34rt43\",52000,45,100)\n",
    "print(\"SmartPhone details is: \", p2.full_details())"
   ]
  },
  {
   "cell_type": "code",
   "execution_count": 60,
   "metadata": {},
   "outputs": [
    {
     "name": "stdout",
     "output_type": "stream",
     "text": [
      "hell0\n",
      "hi\n"
     ]
    }
   ],
   "source": [
    "from abc import *\n",
    "class A(ABC):\n",
    "        @abstractmethod\n",
    "        def display(self):\n",
    "                pass\n",
    "\n",
    "class B(A):\n",
    "        def display(self):\n",
    "                print(\"hi\")\n",
    "         \n",
    "        def display1(self):\n",
    "                print(\"hell0\")\n",
    "\n",
    "b = B()\n",
    "b.display1()\n",
    "b.display()\n"
   ]
  },
  {
   "cell_type": "code",
   "execution_count": 83,
   "metadata": {},
   "outputs": [
    {
     "name": "stdout",
     "output_type": "stream",
     "text": [
      "hello sir\n"
     ]
    }
   ],
   "source": [
    "from abc import *\n",
    "\n",
    "class A(ABC):\n",
    "        @abstractmethod\n",
    "        def dis(self):\n",
    "                pass\n",
    "        \n",
    "        \n",
    "class B(A):\n",
    "        def dis(self):\n",
    "                print(\"hello\")\n",
    "\n",
    "        def dis1(self):\n",
    "                print(\"hello sir\")\n",
    "\n",
    "b = B()\n",
    "b.dis1()\n"
   ]
  },
  {
   "cell_type": "code",
   "execution_count": 93,
   "metadata": {},
   "outputs": [
    {
     "name": "stdout",
     "output_type": "stream",
     "text": [
      "[[11, 42, 9], [16, 25, 60], [49, 64, 900]]\n"
     ]
    }
   ],
   "source": [
    "mat = [[1,2,3],\n",
    "       [4,5,6],\n",
    "       [7,8,9]]\n",
    "\n",
    "mat2 = [[11,21,3],\n",
    "       [4,5,10],\n",
    "       [7,8,100]]\n",
    "\n",
    "mat1 = [[0,0,0],\n",
    "        [0,0,0],\n",
    "        [0,0,0]]\n",
    "\n",
    "for i in range(len(mat)):\n",
    "        for j in range(len(mat[i])):\n",
    "                mat1[i][j]=mat[i][j]+mat2[i][j]\n",
    "                \n",
    "\n",
    "print(mat1)"
   ]
  },
  {
   "cell_type": "code",
   "execution_count": 94,
   "metadata": {},
   "outputs": [
    {
     "ename": "ValueError",
     "evalue": "invalid literal for int() with base 10: ''",
     "output_type": "error",
     "traceback": [
      "\u001b[1;31m---------------------------------------------------------------------------\u001b[0m",
      "\u001b[1;31mValueError\u001b[0m                                Traceback (most recent call last)",
      "Cell \u001b[1;32mIn[94], line 7\u001b[0m\n\u001b[0;32m      5\u001b[0m \u001b[38;5;28;01mfor\u001b[39;00m i \u001b[38;5;129;01min\u001b[39;00m \u001b[38;5;28mrange\u001b[39m(\u001b[38;5;28mlen\u001b[39m(mat)):\n\u001b[0;32m      6\u001b[0m         \u001b[38;5;28;01mfor\u001b[39;00m j \u001b[38;5;129;01min\u001b[39;00m \u001b[38;5;28mrange\u001b[39m(\u001b[38;5;28mlen\u001b[39m(mat[i])):\n\u001b[1;32m----> 7\u001b[0m                 c \u001b[38;5;241m=\u001b[39m \u001b[38;5;28;43mint\u001b[39;49m\u001b[43m(\u001b[49m\u001b[38;5;28;43minput\u001b[39;49m\u001b[43m(\u001b[49m\u001b[38;5;124;43mf\u001b[39;49m\u001b[38;5;124;43m\"\u001b[39;49m\u001b[38;5;124;43mPlese enter the value at the index of matrix: \u001b[39;49m\u001b[38;5;132;43;01m{\u001b[39;49;00m\u001b[43mi\u001b[49m\u001b[43m,\u001b[49m\u001b[43mj\u001b[49m\u001b[38;5;132;43;01m}\u001b[39;49;00m\u001b[38;5;124;43m : \u001b[39;49m\u001b[38;5;124;43m\"\u001b[39;49m\u001b[43m)\u001b[49m\u001b[43m)\u001b[49m\n\u001b[0;32m      8\u001b[0m                 mat1[i][j]\u001b[38;5;241m=\u001b[39mc\n\u001b[0;32m     11\u001b[0m \u001b[38;5;28mprint\u001b[39m(mat1)\n",
      "\u001b[1;31mValueError\u001b[0m: invalid literal for int() with base 10: ''"
     ]
    }
   ],
   "source": [
    "\n",
    "\n",
    "mat1 = [[0,0,0],\n",
    "        [0,0,0],\n",
    "        [0,0,0]]\n",
    "\n",
    "for i in range(len(mat)):\n",
    "        for j in range(len(mat[i])):\n",
    "                c = int(input(f\"Plese enter the value at the index of matrix: {i,j} : \"))\n",
    "                mat1[i][j]=c\n",
    "                \n",
    "\n",
    "print(mat1)"
   ]
  }
 ],
 "metadata": {
  "kernelspec": {
   "display_name": "Python 3",
   "language": "python",
   "name": "python3"
  },
  "language_info": {
   "codemirror_mode": {
    "name": "ipython",
    "version": 3
   },
   "file_extension": ".py",
   "mimetype": "text/x-python",
   "name": "python",
   "nbconvert_exporter": "python",
   "pygments_lexer": "ipython3",
   "version": "3.11.4"
  }
 },
 "nbformat": 4,
 "nbformat_minor": 2
}
